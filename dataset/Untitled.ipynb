{
 "cells": [
  {
   "cell_type": "code",
   "execution_count": 1,
   "id": "901de782-e0d2-4a85-abe3-c68b770ff60b",
   "metadata": {},
   "outputs": [],
   "source": [
    "! conda activate curveball"
   ]
  },
  {
   "cell_type": "code",
   "execution_count": 4,
   "id": "bbdfd6fe-05ef-4678-a1cc-a267cfc57cab",
   "metadata": {},
   "outputs": [
    {
     "name": "stderr",
     "output_type": "stream",
     "text": [
      "'git' is not recognized as an internal or external command,\n",
      "operable program or batch file.\n"
     ]
    }
   ],
   "source": [
    "! git clone https://github.com/ultralytics/yolov5  # clone"
   ]
  },
  {
   "cell_type": "code",
   "execution_count": null,
   "id": "e44f65fd-a30b-4020-8fd8-88c0ef2ffc00",
   "metadata": {},
   "outputs": [],
   "source": [
    "! cd yolov5\n",
    "! pip install -r requirements.txt  # install"
   ]
  },
  {
   "cell_type": "code",
   "execution_count": null,
   "id": "a1b2d2c9-8715-4dfe-9bed-252f97765f4d",
   "metadata": {},
   "outputs": [],
   "source": []
  },
  {
   "cell_type": "code",
   "execution_count": null,
   "id": "c20ae077-2225-4166-9906-0b0f47d4fcc8",
   "metadata": {},
   "outputs": [],
   "source": []
  }
 ],
 "metadata": {
  "kernelspec": {
   "display_name": "Python 3",
   "language": "python",
   "name": "python3"
  },
  "language_info": {
   "codemirror_mode": {
    "name": "ipython",
    "version": 3
   },
   "file_extension": ".py",
   "mimetype": "text/x-python",
   "name": "python",
   "nbconvert_exporter": "python",
   "pygments_lexer": "ipython3",
   "version": "3.8.8"
  }
 },
 "nbformat": 4,
 "nbformat_minor": 5
}
